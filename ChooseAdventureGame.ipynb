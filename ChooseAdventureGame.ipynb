{
  "nbformat": 4,
  "nbformat_minor": 0,
  "metadata": {
    "colab": {
      "name": "ChooseAdventureGame.ipynb",
      "provenance": [],
      "authorship_tag": "ABX9TyMLfolTrO1fzta7ey4bLYNM",
      "include_colab_link": true
    },
    "kernelspec": {
      "name": "python3",
      "display_name": "Python 3"
    }
  },
  "cells": [
    {
      "cell_type": "markdown",
      "metadata": {
        "id": "view-in-github",
        "colab_type": "text"
      },
      "source": [
        "<a href=\"https://colab.research.google.com/github/TeflonMom/Hello-DC/blob/master/ChooseAdventureGame.ipynb\" target=\"_parent\"><img src=\"https://colab.research.google.com/assets/colab-badge.svg\" alt=\"Open In Colab\"/></a>"
      ]
    },
    {
      "cell_type": "code",
      "metadata": {
        "id": "nQ7FYfnVsnaG",
        "colab_type": "code",
        "colab": {}
      },
      "source": [
        "#My own adventure game"
      ],
      "execution_count": 0,
      "outputs": []
    },
    {
      "cell_type": "code",
      "metadata": {
        "id": "u1Dblw7Lsw15",
        "colab_type": "code",
        "colab": {}
      },
      "source": [
        "class TreeNode:\n",
        "  def __init__(self, story_piece):\n",
        "    self.story_piece = story_piece\n",
        "    self.choices = []\n",
        "\n",
        "  def add_child(self, node):\n",
        "    self.choices.append(node)\n",
        "\n",
        "  def traverse(self):\n",
        "    story_node = self\n",
        "    print(story_node.story_piece)\n",
        "\n",
        "    while len(story_node.choices) > 0:\n",
        "      choice = input(\"Enter 1 or 2 to continue: \")\n",
        "      if choice not in [\"1\", \"2\"]:\n",
        "        print(\"Choose something else! Must be 1 or 2\")\n",
        "      else:\n",
        "        chosen_number = int(choice)\n",
        "        chosen_number -= 1\n",
        "        chosen_child = story_node.choices[chosen_number]\n",
        "        print(chosen_child.story_piece)\n",
        "        story_node = chosen_child"
      ],
      "execution_count": 0,
      "outputs": []
    },
    {
      "cell_type": "code",
      "metadata": {
        "id": "0aOlMna1s5Fm",
        "colab_type": "code",
        "colab": {}
      },
      "source": [
        "#Story Variables\n",
        "\n",
        "story_root = TreeNode(\"\"\"\n",
        "You've got a lot to do today. What kind of look will you choose?\n",
        "1) Casual - sweats, hair in a bun, no makeup\n",
        "2) Fancy - dress, heels, full beat and long curls\n",
        "\"\"\")\n",
        "\n",
        "choice_a = TreeNode(\"\"\"\n",
        "Whew you feel comfortable! What do you want to do first?\n",
        "1) Go to HomeGoods and pick up a plant for the house\n",
        "2) Swing past work to retrieve a file you need to look at. No one will see you..hopefully.\n",
        "\"\"\")\n",
        "\n",
        "choice_a1 = TreeNode(\"\"\"\n",
        "You found the perfect plant, and a few other heavy items. Do you:\n",
        "1) Carry the heavy stuff - you're dressed for a workout!\n",
        "2) Pay to have it shipped to your home.\n",
        "\"\"\")\n",
        "\n",
        "choice_a2 = TreeNode(\"\"\"\n",
        "You retrieve your file and are heading towards the door when you hear your boss call out, \"Who's there?\" Ugh! Do you:\n",
        "1) Say hello and have a conversation with him.\n",
        "2) Scurry out as fast as your feet can carry you\n",
        "\"\"\")\n",
        "\n",
        "choice_a1_1 = TreeNode(\"\"\"\n",
        "You hurt your back! Get some rest, ice the pain and make better choices next time.\n",
        "\"\"\")\n",
        "\n",
        "choice_a1_2 = TreeNode(\"\"\"\n",
        "Everything looks great! Bonus, the delivery guy was cute. You have a date next week.\n",
        "\"\"\")\n",
        "\n",
        "choice_a2_1 = TreeNode(\"\"\"\n",
        "Turns out, your boss is a pretty nice guy. He's happy to see you and he quietly puts you in for a promotion.\n",
        "\"\"\")\n",
        "\n",
        "choice_a2_2 = TreeNode(\"\"\"\n",
        "Your boss knows it was you. When your name comes up for a potential promotion he tells the hiring manager that you are immature.\n",
        "\"\"\")\n",
        "\n",
        "choice_b = TreeNode(\"\"\"\n",
        "You look like a million bucks. Where to first?\n",
        "1) Brunch. You look to good to do any actual work today.\n",
        "2) Swing by your sister's house. She could use some help today.\n",
        "\"\"\")\n",
        "\n",
        "choice_b1 = TreeNode(\"\"\"\n",
        "The restaurant is packed! Do you:\n",
        "1) Flirt with the hostess to get a better table\n",
        "2) Slip the hostess a $20 to get a better table\n",
        "\"\"\")\n",
        "\n",
        "choice_b1_1 = TreeNode(\"\"\"\n",
        "The hostess thinks you're cute. She gets you a great table\n",
        "and slips you her phone number.\n",
        "\"\"\")\n",
        "\n",
        "choice_b1_2 = TreeNode(\"\"\"\n",
        "Oh no, the hostess is insulted that you thought she could be bought!\n",
        "You end up waiting an extra 30 minutes for mediocre avacado toast.\n",
        "\"\"\")\n",
        "\n",
        "choice_b2 = TreeNode(\"\"\"\n",
        "Your sister is so relieved to see you! Will you watch her 2 yr old while she takes a quick nap?\n",
        "1) Sure, she looks tired and you love your nephew!\n",
        "2) You give her an excuse and hightail it out of there. No way you're \n",
        "watching that terrible two year old!\n",
        "\"\"\")\n",
        "\n",
        "choice_b2_1 = TreeNode(\"\"\"\n",
        "You have a great time with the kid, and bond with your sis once she's up from her nap.\n",
        "Good job!\n",
        "\"\"\")\n",
        "\n",
        "choice_b2_2 = TreeNode(\"\"\"\n",
        "Your sister cries after you leave. She really needed that break. She leaves you out of her will.\n",
        "\"\"\")"
      ],
      "execution_count": 0,
      "outputs": []
    },
    {
      "cell_type": "code",
      "metadata": {
        "id": "R9WDYA3R0Vur",
        "colab_type": "code",
        "colab": {}
      },
      "source": [
        "#Linking up the possibilities\n",
        "\n",
        "story_root.add_child(choice_a)\n",
        "story_root.add_child(choice_b)\n",
        "\n",
        "#Casual dress options chain\n",
        "choice_a.add_child(choice_a1)\n",
        "choice_a.add_child(choice_a2)\n",
        "choice_a1.add_child(choice_a1_1)\n",
        "choice_a1.add_child(choice_a1_2)\n",
        "choice_a2.add_child(choice_a2_1)\n",
        "choice_a2.add_child(choice_a2_2)\n",
        "\n",
        "#Fancy dress options chain\n",
        "choice_b.add_child(choice_b1)\n",
        "choice_b.add_child(choice_b2)\n",
        "choice_b1.add_child(choice_b1_1)\n",
        "choice_b1.add_child(choice_b1_2)\n",
        "choice_b2.add_child(choice_b2_1)\n",
        "choice_b2.add_child(choice_b2_2)\n"
      ],
      "execution_count": 0,
      "outputs": []
    },
    {
      "cell_type": "code",
      "metadata": {
        "id": "O3dgaeXD4oTr",
        "colab_type": "code",
        "colab": {
          "base_uri": "https://localhost:8080/",
          "height": 761
        },
        "outputId": "2054caec-55ff-4048-a95d-44ea4dce802c"
      },
      "source": [
        "#Game script and testing\n",
        "\n",
        "print(\"Welcome to Tiff's game! What do you want to do today?\")\n",
        "story_root.traverse()"
      ],
      "execution_count": 5,
      "outputs": [
        {
          "output_type": "stream",
          "text": [
            "Welcome to Tiff's game! What do you want to do today?\n",
            "\n",
            "You've got a lot to do today. What kind of look will you choose?\n",
            "1) Casual - sweats, hair in a bun, no makeup\n",
            "2) Fancy - dress, heels, full beat and long curls\n",
            "\n",
            "Enter 1 or 2 to continue: 2\n",
            "\n",
            "You look like a million bucks. Where to first?\n",
            "1) Brunch. You look to good to do any actual work today.\n",
            "2) Swing by your sister's house. She could use some help today.\n",
            "\n"
          ],
          "name": "stdout"
        },
        {
          "output_type": "error",
          "ename": "KeyboardInterrupt",
          "evalue": "ignored",
          "traceback": [
            "\u001b[0;31m---------------------------------------------------------------------------\u001b[0m",
            "\u001b[0;31mKeyboardInterrupt\u001b[0m                         Traceback (most recent call last)",
            "\u001b[0;32m/usr/local/lib/python3.6/dist-packages/ipykernel/kernelbase.py\u001b[0m in \u001b[0;36m_input_request\u001b[0;34m(self, prompt, ident, parent, password)\u001b[0m\n\u001b[1;32m    728\u001b[0m             \u001b[0;32mtry\u001b[0m\u001b[0;34m:\u001b[0m\u001b[0;34m\u001b[0m\u001b[0;34m\u001b[0m\u001b[0m\n\u001b[0;32m--> 729\u001b[0;31m                 \u001b[0mident\u001b[0m\u001b[0;34m,\u001b[0m \u001b[0mreply\u001b[0m \u001b[0;34m=\u001b[0m \u001b[0mself\u001b[0m\u001b[0;34m.\u001b[0m\u001b[0msession\u001b[0m\u001b[0;34m.\u001b[0m\u001b[0mrecv\u001b[0m\u001b[0;34m(\u001b[0m\u001b[0mself\u001b[0m\u001b[0;34m.\u001b[0m\u001b[0mstdin_socket\u001b[0m\u001b[0;34m,\u001b[0m \u001b[0;36m0\u001b[0m\u001b[0;34m)\u001b[0m\u001b[0;34m\u001b[0m\u001b[0;34m\u001b[0m\u001b[0m\n\u001b[0m\u001b[1;32m    730\u001b[0m             \u001b[0;32mexcept\u001b[0m \u001b[0mException\u001b[0m\u001b[0;34m:\u001b[0m\u001b[0;34m\u001b[0m\u001b[0;34m\u001b[0m\u001b[0m\n",
            "\u001b[0;32m/usr/local/lib/python3.6/dist-packages/jupyter_client/session.py\u001b[0m in \u001b[0;36mrecv\u001b[0;34m(self, socket, mode, content, copy)\u001b[0m\n\u001b[1;32m    802\u001b[0m         \u001b[0;32mtry\u001b[0m\u001b[0;34m:\u001b[0m\u001b[0;34m\u001b[0m\u001b[0;34m\u001b[0m\u001b[0m\n\u001b[0;32m--> 803\u001b[0;31m             \u001b[0mmsg_list\u001b[0m \u001b[0;34m=\u001b[0m \u001b[0msocket\u001b[0m\u001b[0;34m.\u001b[0m\u001b[0mrecv_multipart\u001b[0m\u001b[0;34m(\u001b[0m\u001b[0mmode\u001b[0m\u001b[0;34m,\u001b[0m \u001b[0mcopy\u001b[0m\u001b[0;34m=\u001b[0m\u001b[0mcopy\u001b[0m\u001b[0;34m)\u001b[0m\u001b[0;34m\u001b[0m\u001b[0;34m\u001b[0m\u001b[0m\n\u001b[0m\u001b[1;32m    804\u001b[0m         \u001b[0;32mexcept\u001b[0m \u001b[0mzmq\u001b[0m\u001b[0;34m.\u001b[0m\u001b[0mZMQError\u001b[0m \u001b[0;32mas\u001b[0m \u001b[0me\u001b[0m\u001b[0;34m:\u001b[0m\u001b[0;34m\u001b[0m\u001b[0;34m\u001b[0m\u001b[0m\n",
            "\u001b[0;32m/usr/local/lib/python3.6/dist-packages/zmq/sugar/socket.py\u001b[0m in \u001b[0;36mrecv_multipart\u001b[0;34m(self, flags, copy, track)\u001b[0m\n\u001b[1;32m    474\u001b[0m         \"\"\"\n\u001b[0;32m--> 475\u001b[0;31m         \u001b[0mparts\u001b[0m \u001b[0;34m=\u001b[0m \u001b[0;34m[\u001b[0m\u001b[0mself\u001b[0m\u001b[0;34m.\u001b[0m\u001b[0mrecv\u001b[0m\u001b[0;34m(\u001b[0m\u001b[0mflags\u001b[0m\u001b[0;34m,\u001b[0m \u001b[0mcopy\u001b[0m\u001b[0;34m=\u001b[0m\u001b[0mcopy\u001b[0m\u001b[0;34m,\u001b[0m \u001b[0mtrack\u001b[0m\u001b[0;34m=\u001b[0m\u001b[0mtrack\u001b[0m\u001b[0;34m)\u001b[0m\u001b[0;34m]\u001b[0m\u001b[0;34m\u001b[0m\u001b[0;34m\u001b[0m\u001b[0m\n\u001b[0m\u001b[1;32m    476\u001b[0m         \u001b[0;31m# have first part already, only loop while more to receive\u001b[0m\u001b[0;34m\u001b[0m\u001b[0;34m\u001b[0m\u001b[0;34m\u001b[0m\u001b[0m\n",
            "\u001b[0;32mzmq/backend/cython/socket.pyx\u001b[0m in \u001b[0;36mzmq.backend.cython.socket.Socket.recv\u001b[0;34m()\u001b[0m\n",
            "\u001b[0;32mzmq/backend/cython/socket.pyx\u001b[0m in \u001b[0;36mzmq.backend.cython.socket.Socket.recv\u001b[0;34m()\u001b[0m\n",
            "\u001b[0;32mzmq/backend/cython/socket.pyx\u001b[0m in \u001b[0;36mzmq.backend.cython.socket._recv_copy\u001b[0;34m()\u001b[0m\n",
            "\u001b[0;32m/usr/local/lib/python3.6/dist-packages/zmq/backend/cython/checkrc.pxd\u001b[0m in \u001b[0;36mzmq.backend.cython.checkrc._check_rc\u001b[0;34m()\u001b[0m\n",
            "\u001b[0;31mKeyboardInterrupt\u001b[0m: ",
            "\nDuring handling of the above exception, another exception occurred:\n",
            "\u001b[0;31mKeyboardInterrupt\u001b[0m                         Traceback (most recent call last)",
            "\u001b[0;32m<ipython-input-5-aafb9f324a75>\u001b[0m in \u001b[0;36m<module>\u001b[0;34m()\u001b[0m\n\u001b[1;32m      1\u001b[0m \u001b[0;34m\u001b[0m\u001b[0m\n\u001b[1;32m      2\u001b[0m \u001b[0mprint\u001b[0m\u001b[0;34m(\u001b[0m\u001b[0;34m\"Welcome to Tiff's game! What do you want to do today?\"\u001b[0m\u001b[0;34m)\u001b[0m\u001b[0;34m\u001b[0m\u001b[0;34m\u001b[0m\u001b[0m\n\u001b[0;32m----> 3\u001b[0;31m \u001b[0mstory_root\u001b[0m\u001b[0;34m.\u001b[0m\u001b[0mtraverse\u001b[0m\u001b[0;34m(\u001b[0m\u001b[0;34m)\u001b[0m\u001b[0;34m\u001b[0m\u001b[0;34m\u001b[0m\u001b[0m\n\u001b[0m",
            "\u001b[0;32m<ipython-input-1-262937a08140>\u001b[0m in \u001b[0;36mtraverse\u001b[0;34m(self)\u001b[0m\n\u001b[1;32m     12\u001b[0m \u001b[0;34m\u001b[0m\u001b[0m\n\u001b[1;32m     13\u001b[0m     \u001b[0;32mwhile\u001b[0m \u001b[0mlen\u001b[0m\u001b[0;34m(\u001b[0m\u001b[0mstory_node\u001b[0m\u001b[0;34m.\u001b[0m\u001b[0mchoices\u001b[0m\u001b[0;34m)\u001b[0m \u001b[0;34m>\u001b[0m \u001b[0;36m0\u001b[0m\u001b[0;34m:\u001b[0m\u001b[0;34m\u001b[0m\u001b[0;34m\u001b[0m\u001b[0m\n\u001b[0;32m---> 14\u001b[0;31m       \u001b[0mchoice\u001b[0m \u001b[0;34m=\u001b[0m \u001b[0minput\u001b[0m\u001b[0;34m(\u001b[0m\u001b[0;34m\"Enter 1 or 2 to continue: \"\u001b[0m\u001b[0;34m)\u001b[0m\u001b[0;34m\u001b[0m\u001b[0;34m\u001b[0m\u001b[0m\n\u001b[0m\u001b[1;32m     15\u001b[0m       \u001b[0;32mif\u001b[0m \u001b[0mchoice\u001b[0m \u001b[0;32mnot\u001b[0m \u001b[0;32min\u001b[0m \u001b[0;34m[\u001b[0m\u001b[0;34m\"1\"\u001b[0m\u001b[0;34m,\u001b[0m \u001b[0;34m\"2\"\u001b[0m\u001b[0;34m]\u001b[0m\u001b[0;34m:\u001b[0m\u001b[0;34m\u001b[0m\u001b[0;34m\u001b[0m\u001b[0m\n\u001b[1;32m     16\u001b[0m         \u001b[0mprint\u001b[0m\u001b[0;34m(\u001b[0m\u001b[0;34m\"Choose something else! Must be 1 or 2\"\u001b[0m\u001b[0;34m)\u001b[0m\u001b[0;34m\u001b[0m\u001b[0;34m\u001b[0m\u001b[0m\n",
            "\u001b[0;32m/usr/local/lib/python3.6/dist-packages/ipykernel/kernelbase.py\u001b[0m in \u001b[0;36mraw_input\u001b[0;34m(self, prompt)\u001b[0m\n\u001b[1;32m    702\u001b[0m             \u001b[0mself\u001b[0m\u001b[0;34m.\u001b[0m\u001b[0m_parent_ident\u001b[0m\u001b[0;34m,\u001b[0m\u001b[0;34m\u001b[0m\u001b[0;34m\u001b[0m\u001b[0m\n\u001b[1;32m    703\u001b[0m             \u001b[0mself\u001b[0m\u001b[0;34m.\u001b[0m\u001b[0m_parent_header\u001b[0m\u001b[0;34m,\u001b[0m\u001b[0;34m\u001b[0m\u001b[0;34m\u001b[0m\u001b[0m\n\u001b[0;32m--> 704\u001b[0;31m             \u001b[0mpassword\u001b[0m\u001b[0;34m=\u001b[0m\u001b[0;32mFalse\u001b[0m\u001b[0;34m,\u001b[0m\u001b[0;34m\u001b[0m\u001b[0;34m\u001b[0m\u001b[0m\n\u001b[0m\u001b[1;32m    705\u001b[0m         )\n\u001b[1;32m    706\u001b[0m \u001b[0;34m\u001b[0m\u001b[0m\n",
            "\u001b[0;32m/usr/local/lib/python3.6/dist-packages/ipykernel/kernelbase.py\u001b[0m in \u001b[0;36m_input_request\u001b[0;34m(self, prompt, ident, parent, password)\u001b[0m\n\u001b[1;32m    732\u001b[0m             \u001b[0;32mexcept\u001b[0m \u001b[0mKeyboardInterrupt\u001b[0m\u001b[0;34m:\u001b[0m\u001b[0;34m\u001b[0m\u001b[0;34m\u001b[0m\u001b[0m\n\u001b[1;32m    733\u001b[0m                 \u001b[0;31m# re-raise KeyboardInterrupt, to truncate traceback\u001b[0m\u001b[0;34m\u001b[0m\u001b[0;34m\u001b[0m\u001b[0;34m\u001b[0m\u001b[0m\n\u001b[0;32m--> 734\u001b[0;31m                 \u001b[0;32mraise\u001b[0m \u001b[0mKeyboardInterrupt\u001b[0m\u001b[0;34m\u001b[0m\u001b[0;34m\u001b[0m\u001b[0m\n\u001b[0m\u001b[1;32m    735\u001b[0m             \u001b[0;32melse\u001b[0m\u001b[0;34m:\u001b[0m\u001b[0;34m\u001b[0m\u001b[0;34m\u001b[0m\u001b[0m\n\u001b[1;32m    736\u001b[0m                 \u001b[0;32mbreak\u001b[0m\u001b[0;34m\u001b[0m\u001b[0;34m\u001b[0m\u001b[0m\n",
            "\u001b[0;31mKeyboardInterrupt\u001b[0m: "
          ]
        }
      ]
    }
  ]
}